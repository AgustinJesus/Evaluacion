{
 "cells": [
  {
   "cell_type": "markdown",
   "id": "60ab1751",
   "metadata": {},
   "source": [
    "# My Jupyter Notebook on IBM Watson Studio"
   ]
  },
  {
   "cell_type": "markdown",
   "id": "82b26131",
   "metadata": {},
   "source": [
    "**Agustín Goncalves**\n",
    "Ingeniero de Sistemas"
   ]
  },
  {
   "cell_type": "markdown",
   "id": "95e30222",
   "metadata": {},
   "source": [
    "*Durante años he trabajado en la investigación de mercados procesando datos sobre personas encuestadas: sus gustos por ciertos productos, sus decisores de compra, sus percepciones sobre diversos temas. Me parece natural continuar ese proceso incorporando herramientas de Ciencia de datos y obténiendo más y mejor información de la dta que recopilamos regularmente*"
   ]
  },
  {
   "cell_type": "markdown",
   "id": "1b521d6e",
   "metadata": {},
   "source": [
    "###El código que listo a continuación calcula el factorial de un número que el usiuario introducce por la consola. No es código propio, lo obtuve a través de la página \"La WEB del programador\""
   ]
  },
  {
   "cell_type": "code",
   "execution_count": 6,
   "id": "591d5b72",
   "metadata": {},
   "outputs": [
    {
     "name": "stdout",
     "output_type": "stream",
     "text": [
      "120\n",
      "720\n"
     ]
    }
   ],
   "source": [
    "def factorial(*n):\n",
    "...     for x in n:\n",
    "...             fac =1\n",
    "...             for y in range(1, x+1):\n",
    "...                     fac=fac*y\n",
    "...             print (fac)\n",
    "...\n",
    "factorial(5)\n",
    "factorial(6)\n"
   ]
  },
  {
   "cell_type": "markdown",
   "id": "4031cf87",
   "metadata": {},
   "source": [
    "#### "
   ]
  }
 ],
 "metadata": {
  "celltoolbar": "Raw Cell Format",
  "kernelspec": {
   "display_name": "Python 3 (ipykernel)",
   "language": "python",
   "name": "python3"
  },
  "language_info": {
   "codemirror_mode": {
    "name": "ipython",
    "version": 3
   },
   "file_extension": ".py",
   "mimetype": "text/x-python",
   "name": "python",
   "nbconvert_exporter": "python",
   "pygments_lexer": "ipython3",
   "version": "3.7.8"
  }
 },
 "nbformat": 4,
 "nbformat_minor": 5
}
