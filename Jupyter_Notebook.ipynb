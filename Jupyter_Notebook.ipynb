{
 "cells": [
  {
   "cell_type": "markdown",
   "metadata": {},
   "source": [
    "<center>\n",
    "    <img src=\"https://s3-api.us-geo.objectstorage.softlayer.net/cf-courses-data/CognitiveClass/Logos/organization_logo/organization_logo.png\" width=\"300\" alt=\"cognitiveclass.ai logo\"  />\n",
    "</center>\n"
   ]
  },
  {
   "cell_type": "markdown",
   "metadata": {
    "jupyter": {
     "source_hidden": true
    },
    "tags": []
   },
   "source": [
    "#### Add your code below following the instructions given in the course\n"
   ]
  },
  {
   "cell_type": "markdown",
   "metadata": {},
   "source": [
    "#My Jupyter Notebook on IBM Watson Studio"
   ]
  },
  {
   "cell_type": "markdown",
   "metadata": {},
   "source": [
    "**Agustín Goncalves**<br>\n",
    "  Ingeniero de Sistemas"
   ]
  },
  {
   "cell_type": "markdown",
   "metadata": {},
   "source": [
    "*Durante años he trabajado en la investigación de mercados procesando datos sobre personas encuestadas: sus gustos por ciertos productos, sus decisores de compra, sus percepciones sobre diversos temas. Me parece natural continuar ese proceso incorporando herramientas de Ciencia de datos y obténiendo más y mejor información de la dta que recopilamos regularmente*"
   ]
  },
  {
   "cell_type": "markdown",
   "metadata": {},
   "source": [
    "###El código que listo a continuación calcula el factorial de un número que el usiuario introducce por la consola. No es código propio, lo obtuve a través de la página \"La WEB del programador\""
   ]
  },
  {
   "cell_type": "code",
   "execution_count": 1,
   "metadata": {},
   "outputs": [
    {
     "name": "stdout",
     "output_type": "stream",
     "text": [
      "120\n",
      "362880\n"
     ]
    }
   ],
   "source": [
    "def factorial(*n):\n",
    "...     for x in n:\n",
    "...             fac =1\n",
    "...             for y in range(1, x+1):\n",
    "...                     fac=fac*y\n",
    "...             print (fac)\n",
    "...\n",
    "factorial(5)\n",
    "factorial (9)"
   ]
  },
  {
   "cell_type": "markdown",
   "metadata": {},
   "source": [
    "**IBM Data Science Tools\n",
    "Tool                      |Lenguage      |Aplication\n",
    ":------------------------:|:------------:|:--------:\n",
    "Watson Knowledge Catalog  |Python, R+    |Prepare data\n",
    "Data Refinery             |Python, R+    |Data Clean\n",
    "SPSS Modeler Flows        |Spss          |Visualization, Model creating"
   ]
  },
  {
   "cell_type": "markdown",
   "metadata": {},
   "source": [
    "##Most common libraries for Python in Data Science\n",
    "  1. Pandas\n",
    "  2. NumPy\n",
    "  3. Matplotlib\n",
    "  4. Seaborn"
   ]
  },
  {
   "cell_type": "markdown",
   "metadata": {},
   "source": [
    "##Lenguages most popular in Data Science <br>\n",
    " - Python\n",
    " - SQL\n",
    " - R"
   ]
  },
  {
   "cell_type": "markdown",
   "metadata": {},
   "source": [
    "https://github.com/AgustinJesus/Evaluacion.git"
   ]
  }
 ],
 "metadata": {
  "kernelspec": {
   "display_name": "Python",
   "language": "python",
   "name": "conda-env-python-py"
  },
  "language_info": {
   "codemirror_mode": {
    "name": "ipython",
    "version": 3
   },
   "file_extension": ".py",
   "mimetype": "text/x-python",
   "name": "python",
   "nbconvert_exporter": "python",
   "pygments_lexer": "ipython3",
   "version": "3.7.12"
  }
 },
 "nbformat": 4,
 "nbformat_minor": 4
}
